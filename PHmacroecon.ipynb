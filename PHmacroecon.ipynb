import pandas as pd
import numpy as np
import matplotlib.pyplot as plt
import seaborn as sns
phil = pd.read_excel ("Test.xlsx")
print (phil.head(33))
sns.pairplot (phil, x_vars= ['Labor force, female (% of total labor force)', 'Gross savings (% of GNI)', 'Gross domestic savings (% of GDP)', 'Inflation, GDP deflator (annual %)', 'Real interest rate (%)', 'Interest rate spread (lending rate minus deposit rate, %)', 'Imports of goods and services (BoP, current US$)', 'Gross capital formation (annual % growth)'], y_vars = ['GDP growth (annual %)'], height = 6, aspect=0.7, kind='reg')
